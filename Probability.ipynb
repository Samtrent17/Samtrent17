{
 "cells": [
  {
   "cell_type": "markdown",
   "metadata": {},
   "source": [
    "Types of Probability\n",
    "Conditional Probabitilty"
   ]
  },
  {
   "cell_type": "markdown",
   "metadata": {},
   "source": [
    "1 Total Number = 1000\n",
    "2 70% play football = 0.7 x 1000 = 700\n",
    "3 60% play basketball = 0.6 x 1000 = 600\n",
    "4 40% play both = 0.4 x 1000 = 400\n",
    "5\n",
    "6 p(A/B) = p(AnB)/p(B)"
   ]
  },
  {
   "cell_type": "code",
   "execution_count": 5,
   "metadata": {},
   "outputs": [
    {
     "name": "stdout",
     "output_type": "stream",
     "text": [
      "The probability that a student who plays basketball also plays football is : 0.6666666666666666\n"
     ]
    }
   ],
   "source": [
    "nA = 0.7*1000\n",
    "nB = 0.6*1000\n",
    "\n",
    "(AnB) = 0.4*1000\n",
    "probability = AnB/nB\n",
    "print(f\"The probability that a student who plays basketball also plays football is :\",probability)\n"
   ]
  },
  {
   "cell_type": "markdown",
   "metadata": {},
   "source": [
    "Using Events"
   ]
  },
  {
   "cell_type": "code",
   "execution_count": 7,
   "metadata": {},
   "outputs": [],
   "source": [
    "sample_space = {1,2,3,4,5,6}\n",
    "event_one = {1,2,3}\n",
    "event_two = {4,5,6}\n"
   ]
  },
  {
   "cell_type": "code",
   "execution_count": 11,
   "metadata": {},
   "outputs": [
    {
     "name": "stdout",
     "output_type": "stream",
     "text": [
      "The conditional probability is :0.0\n"
     ]
    }
   ],
   "source": [
    "joint_probability =len([x for x in event_one if x in event_two])/len(sample_space)\n",
    "joint_probability = len([x for x in event_one if x in event_two]) / len(sample_space)\n",
    "\n",
    "probability_event_two = len(event_two)/len(sample_space)\n",
    "\n",
    "conditional_probability = joint_probability/probability_event_two\n",
    "print(f\"The conditional probability is :{conditional_probability}\")\n",
    "\n"
   ]
  },
  {
   "cell_type": "code",
   "execution_count": null,
   "metadata": {},
   "outputs": [],
   "source": [
    "event_a = class1[class1]"
   ]
  }
 ],
 "metadata": {
  "kernelspec": {
   "display_name": "Python 3",
   "language": "python",
   "name": "python3"
  },
  "language_info": {
   "codemirror_mode": {
    "name": "ipython",
    "version": 3
   },
   "file_extension": ".py",
   "mimetype": "text/x-python",
   "name": "python",
   "nbconvert_exporter": "python",
   "pygments_lexer": "ipython3",
   "version": "3.12.5"
  }
 },
 "nbformat": 4,
 "nbformat_minor": 2
}
